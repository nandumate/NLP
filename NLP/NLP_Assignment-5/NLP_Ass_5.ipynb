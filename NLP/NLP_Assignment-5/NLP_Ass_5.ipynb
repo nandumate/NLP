{
  "nbformat": 4,
  "nbformat_minor": 0,
  "metadata": {
    "colab": {
      "provenance": []
    },
    "kernelspec": {
      "name": "python3",
      "display_name": "Python 3"
    },
    "language_info": {
      "name": "python"
    }
  },
  "cells": [
    {
      "cell_type": "markdown",
      "source": [
        "**Assignment No.5**: Morphology is the study of the way words are built up from smaller meaning bearing units. Study and understand the concepts of morphology by the use of add delete table."
      ],
      "metadata": {
        "id": "MIujgzhpcNXv"
      }
    },
    {
      "cell_type": "markdown",
      "source": [
        "**STEPS :-**\n",
        "\n",
        "1️⃣ Import Library – Use pandas for data handling.\n",
        "\n",
        "2️⃣ Define Add-Delete Table – Specify prefixes (un, re), suffixes (ing, ed, s), and deletions.\n",
        "\n",
        "3️⃣ Create Function – generate_morphological_variants(word) to modify the word.\n",
        "\n",
        "4️⃣ Apply Additions – Append and prepend prefixes & suffixes.\n",
        "\n",
        "5️⃣ Apply Deletions – Remove suffixes if present.\n",
        "\n",
        "6️⃣ Collect Variants – Store original and modified words in a set.\n",
        "\n",
        "7️⃣ User Input – Take a root word from the user.\n",
        "\n",
        "8️⃣ Generate Variants – Call function to get morphological variations.\n",
        "\n",
        "9️⃣ Display Results – Convert variations into a Pandas DataFrame for output."
      ],
      "metadata": {
        "id": "n_w3WdyXILzO"
      }
    },
    {
      "cell_type": "code",
      "execution_count": null,
      "metadata": {
        "id": "a7wPosB1aBBo"
      },
      "outputs": [],
      "source": [
        "import pandas as pd"
      ]
    },
    {
      "cell_type": "code",
      "source": [
        "# Define the Add-Delete Table\n",
        "morphology_table = {\n",
        "    \"add\": [\"un\", \"re\", \"ing\", \"ed\", \"s\"],  # Prefixes and Suffixes\n",
        "    \"delete\": [\"ing\", \"ed\", \"s\"]  # Morphological deletions\n",
        "}\n",
        "\n",
        "# Function to generate word variations\n",
        "def generate_morphological_variants(word):\n",
        "    variations = set()\n",
        "    variations.add(word)\n",
        "\n",
        "    # Add prefixes and suffixes\n",
        "    for affix in morphology_table[\"add\"]:\n",
        "        variations.add(affix + word)\n",
        "        variations.add(word + affix)\n",
        "\n",
        "    # Delete suffixes if present\n",
        "    for affix in morphology_table[\"delete\"]:\n",
        "        if word.endswith(affix):\n",
        "            variations.add(word[:-len(affix)])\n",
        "\n",
        "    return variations\n",
        "\n",
        "# Input word from user\n",
        "word = input(\"Enter a root word: \")\n",
        "variants = generate_morphological_variants(word)\n",
        "\n",
        "# Display results as a DataFrame\n",
        "df = pd.DataFrame(list(variants), columns=[\"Morphological Variants\"])\n",
        "print(df)"
      ],
      "metadata": {
        "colab": {
          "base_uri": "https://localhost:8080/"
        },
        "id": "ivrC87KWKxWU",
        "outputId": "306a3366-d13d-4a4a-cd61-bb3dac06b0a5"
      },
      "execution_count": null,
      "outputs": [
        {
          "output_type": "stream",
          "name": "stdout",
          "text": [
            "Enter a root word: Dance\n",
            "   Morphological Variants\n",
            "0                 edDance\n",
            "1                 reDance\n",
            "2                Danceing\n",
            "3                  sDance\n",
            "4                 Danceed\n",
            "5                 Danceun\n",
            "6                 unDance\n",
            "7                 Dancere\n",
            "8                  Dances\n",
            "9                   Dance\n",
            "10               ingDance\n"
          ]
        }
      ]
    }
  ]
}