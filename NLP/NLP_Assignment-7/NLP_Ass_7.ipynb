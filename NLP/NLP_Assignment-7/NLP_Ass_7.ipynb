{
  "nbformat": 4,
  "nbformat_minor": 0,
  "metadata": {
    "colab": {
      "provenance": []
    },
    "kernelspec": {
      "name": "python3",
      "display_name": "Python 3"
    },
    "language_info": {
      "name": "python"
    }
  },
  "cells": [
    {
      "cell_type": "markdown",
      "source": [
        "**Assignment No. 7:** Write a better auto-complete algorithm using an N-gram model (similar models are used for\n",
        "translation, determining the author of a text, and speech recognition)\n"
      ],
      "metadata": {
        "id": "bRO9ruUfMDfd"
      }
    },
    {
      "cell_type": "markdown",
      "source": [
        "**STEPS :-**\n",
        "1.Import Libraries – Import re, random, defaultdict, and Counter from collections.\n",
        "\n",
        "2.Initialize Model – Define an NgramModel class with n-gram size.\n",
        "\n",
        "3.Preprocess Text – Convert text to lowercase, remove punctuation, and split into words.\n",
        "\n",
        "4.Train Model – Build (N-1)-gram prefix and count occurrences of next words.\n",
        "\n",
        "5.Predict Next Word – Use the trained model to suggest the most common next words.\n",
        "\n",
        "6.Test with Sample Input – Train on a demo corpus and predict words based on input context."
      ],
      "metadata": {
        "id": "D3lQ7eZgRAdl"
      }
    },
    {
      "cell_type": "code",
      "source": [
        "import re\n",
        "import random\n",
        "from collections import defaultdict, Counter\n",
        "\n",
        "class NgramModel:\n",
        "    def __init__(self, n=3):\n",
        "        self.n = n  # N-gram size\n",
        "        self.ngram_counts = defaultdict(Counter)\n",
        "\n",
        "    def preprocess(self, text):\n",
        "        text = text.lower()\n",
        "        text = re.sub(r'[^a-zA-Z0-9\\s]', '', text)  # Remove punctuation\n",
        "        words = text.split()\n",
        "        return words\n",
        "\n",
        "    def train(self, corpus):\n",
        "        words = self.preprocess(corpus)\n",
        "        for i in range(len(words) - self.n + 1):\n",
        "            prefix = tuple(words[i:i+self.n-1])  # (N-1)-gram as key\n",
        "            next_word = words[i+self.n-1]  # The next word\n",
        "            self.ngram_counts[prefix][next_word] += 1\n",
        "\n",
        "    def predict(self, context, top_k=3):\n",
        "        context = tuple(self.preprocess(context)[-self.n+1:])  # Get last (N-1) words\n",
        "        if context in self.ngram_counts:\n",
        "            suggestions = self.ngram_counts[context].most_common(top_k)\n",
        "            return [word for word, _ in suggestions]\n",
        "        return []\n",
        "\n",
        "# Example corpus\n",
        "demo_corpus = \"The quick brown fox jumps over the lazy dog. The quick brown cat sleeps on the mat.\"\n",
        "\n",
        "# Train the model\n",
        "model = NgramModel(n=3)\n",
        "model.train(demo_corpus)\n",
        "\n",
        "# Test prediction\n",
        "context = \"The quick brown\"\n",
        "predictions = model.predict(context)\n",
        "print(f\"Predictions for '{context}': {predictions}\")\n"
      ],
      "metadata": {
        "colab": {
          "base_uri": "https://localhost:8080/"
        },
        "id": "ubymkPiZ7du2",
        "outputId": "e0dbf307-3579-4d61-b752-087c490a3957"
      },
      "execution_count": null,
      "outputs": [
        {
          "output_type": "stream",
          "name": "stdout",
          "text": [
            "Predictions for 'The quick brown': ['fox', 'cat']\n"
          ]
        }
      ]
    }
  ]
}