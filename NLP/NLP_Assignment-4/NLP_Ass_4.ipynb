{
  "nbformat": 4,
  "nbformat_minor": 0,
  "metadata": {
    "colab": {
      "provenance": []
    },
    "kernelspec": {
      "name": "python3",
      "display_name": "Python 3"
    },
    "language_info": {
      "name": "python"
    }
  },
  "cells": [
    {
      "cell_type": "markdown",
      "source": [
        "**Assignment No.4:** Create a transformer from scratch using the Pytorch library"
      ],
      "metadata": {
        "id": "feCRP5ls05VQ"
      }
    },
    {
      "cell_type": "markdown",
      "source": [
        "1️⃣ Import Libraries – torch, nn, optim, F, numpy.\n",
        "\n",
        "2️⃣ Token Embedding – Convert input tokens into dense vectors.\n",
        "\n",
        "3️⃣ Positional Encoding – Add position information using sine & cosine.\n",
        "\n",
        "4️⃣ Multi-Head Self Attention – Compute attention scores & weighted sum.\n",
        "\n",
        "5️⃣ Feed Forward Network – Apply a two-layer MLP with ReLU activation.\n",
        "\n",
        "6️⃣ Encoder Layer – Combine self-attention, feed-forward, and normalization.\n",
        "\n",
        "7️⃣ Decoder Layer (Missing in Code) – Similar to the encoder but with cross-attention.\n",
        "\n",
        "8️⃣ Full Transformer Model – Stack multiple encoder & decoder layers.\n",
        "\n",
        "9️⃣ Forward Pass – Pass source & target sequences through embedding, encoding, and decoding layers.\n",
        "\n",
        "🔟 Model Initialization – Set parameters like vocab_size, d_model, num_heads, d_ff, num_layers.\n",
        "\n"
      ],
      "metadata": {
        "id": "QzxOneaOHCPk"
      }
    },
    {
      "cell_type": "code",
      "source": [
        "import torch\n",
        "import torch.nn as nn\n",
        "import torch.optim as optim\n",
        "import torch.nn.functional as F\n",
        "import numpy as np"
      ],
      "metadata": {
        "id": "9zn26hyEsxB2"
      },
      "execution_count": null,
      "outputs": []
    },
    {
      "cell_type": "code",
      "source": [
        "# Token Embedding\n",
        "class TokenEmbedding(nn.Module):\n",
        "    def __init__(self, vocab_size, d_model):\n",
        "        super().__init__()\n",
        "        self.embedding = nn.Embedding(vocab_size, d_model)\n",
        "\n",
        "    def forward(self, x):\n",
        "        return self.embedding(x)"
      ],
      "metadata": {
        "id": "4-dS6YXJX2r6"
      },
      "execution_count": null,
      "outputs": []
    },
    {
      "cell_type": "code",
      "source": [
        "# Positional Encoding\n",
        "class PositionalEncoding(nn.Module):\n",
        "    def __init__(self, d_model, max_len=5000):\n",
        "        super().__init__()\n",
        "        pe = torch.zeros(max_len, d_model)\n",
        "        position = torch.arange(0, max_len, dtype=torch.float).unsqueeze(1)\n",
        "        div_term = torch.exp(torch.arange(0, d_model, 2).float() * -(np.log(10000.0) / d_model))\n",
        "        pe[:, 0::2] = torch.sin(position * div_term)\n",
        "        pe[:, 1::2] = torch.cos(position * div_term)\n",
        "        self.pe = pe.unsqueeze(0)\n",
        "\n",
        "    def forward(self, x):\n",
        "        return x + self.pe[:, :x.size(1), :].to(x.device)\n"
      ],
      "metadata": {
        "id": "GSUVezTlX68B"
      },
      "execution_count": null,
      "outputs": []
    },
    {
      "cell_type": "code",
      "source": [
        "# Multi-Head Self Attention\n",
        "class MultiHeadAttention(nn.Module):\n",
        "    def __init__(self, d_model, num_heads):\n",
        "        super().__init__()\n",
        "        assert d_model % num_heads == 0\n",
        "        self.d_k = d_model // num_heads\n",
        "        self.num_heads = num_heads\n",
        "        self.w_q = nn.Linear(d_model, d_model)\n",
        "        self.w_k = nn.Linear(d_model, d_model)\n",
        "        self.w_v = nn.Linear(d_model, d_model)\n",
        "        self.w_o = nn.Linear(d_model, d_model)\n",
        "\n",
        "    def forward(self, q, k, v, mask=None):\n",
        "        batch_size = q.size(0)\n",
        "        q = self.w_q(q).view(batch_size, -1, self.num_heads, self.d_k).transpose(1, 2)\n",
        "        k = self.w_k(k).view(batch_size, -1, self.num_heads, self.d_k).transpose(1, 2)\n",
        "        v = self.w_v(v).view(batch_size, -1, self.num_heads, self.d_k).transpose(1, 2)\n",
        "        scores = torch.matmul(q, k.transpose(-2, -1)) / np.sqrt(self.d_k)\n",
        "        if mask is not None:\n",
        "            scores = scores.masked_fill(mask == 0, -1e9)\n",
        "        attn = F.softmax(scores, dim=-1)\n",
        "        output = torch.matmul(attn, v).transpose(1, 2).contiguous().view(batch_size, -1, self.d_model)\n",
        "        return self.w_o(output)"
      ],
      "metadata": {
        "id": "XxLIs3QOX-dJ"
      },
      "execution_count": null,
      "outputs": []
    },
    {
      "cell_type": "code",
      "source": [
        "# Feed Forward Network\n",
        "class FeedForward(nn.Module):\n",
        "    def __init__(self, d_model, d_ff):\n",
        "        super().__init__()\n",
        "        self.fc1 = nn.Linear(d_model, d_ff)\n",
        "        self.fc2 = nn.Linear(d_ff, d_model)\n",
        "\n",
        "    def forward(self, x):\n",
        "        return self.fc2(F.relu(self.fc1(x)))"
      ],
      "metadata": {
        "id": "UElXqwpaYChz"
      },
      "execution_count": null,
      "outputs": []
    },
    {
      "cell_type": "code",
      "source": [
        "# Encoder Layer\n",
        "class EncoderLayer(nn.Module):\n",
        "    def __init__(self, d_model, num_heads, d_ff, dropout=0.1):\n",
        "        super().__init__()\n",
        "        self.self_attn = MultiHeadAttention(d_model, num_heads)\n",
        "        self.ff = FeedForward(d_model, d_ff)\n",
        "        self.norm1 = nn.LayerNorm(d_model)\n",
        "        self.norm2 = nn.LayerNorm(d_model)\n",
        "        self.dropout = nn.Dropout(dropout)\n",
        "\n",
        "    def forward(self, x, mask=None):\n",
        "        attn_output = self.self_attn(x, x, x, mask)\n",
        "        x = self.norm1(x + self.dropout(attn_output))\n",
        "        ff_output = self.ff(x)\n",
        "        return self.norm2(x + self.dropout(ff_output))\n"
      ],
      "metadata": {
        "id": "dgyMFAyvYFuO"
      },
      "execution_count": null,
      "outputs": []
    },
    {
      "cell_type": "code",
      "source": [
        "# Decoder Layer\n",
        "class DecoderLayer(nn.Module):\n",
        "    def __init__(self, d_model, num_heads, d_ff, dropout=0.1):\n",
        "        super().__init__()\n",
        "        self.self_attn = MultiHeadAttention(d_model, num_heads)\n",
        "        self.enc_attn = MultiHeadAttention(d_model, num_heads)\n",
        "        self.ff = FeedForward(d_model, d_ff)\n",
        "        self.norm1 = nn.LayerNorm(d_model)\n",
        "        self.norm2 = nn.LayerNorm(d_model)\n",
        "        self.norm3 = nn.LayerNorm(d_model)\n",
        "        self.dropout = nn.Dropout(dropout)\n",
        "\n",
        "    def forward(self, x, enc_output, src_mask=None, tgt_mask=None):\n",
        "        attn_output = self.self_attn(x, x, x, tgt_mask)\n",
        "        x = self.norm1(x + self.dropout(attn_output))\n",
        "        attn_output = self.enc_attn(x, enc_output, enc_output, src_mask)\n",
        "        x = self.norm2(x + self.dropout(attn_output))\n",
        "        ff_output = self.ff(x)\n",
        "        return self.norm3(x + self.dropout(ff_output))"
      ],
      "metadata": {
        "id": "aXpMz5bOYIVw"
      },
      "execution_count": null,
      "outputs": []
    },
    {
      "cell_type": "code",
      "source": [
        "# Full Transformer Model\n",
        "class Transformer(nn.Module):\n",
        "    def __init__(self, vocab_size, d_model, num_heads, d_ff, num_layers, dropout=0.1):\n",
        "        super().__init__()\n",
        "        self.token_embedding = TokenEmbedding(vocab_size, d_model)\n",
        "        self.pos_encoding = PositionalEncoding(d_model)\n",
        "        self.encoder_layers = nn.ModuleList([EncoderLayer(d_model, num_heads, d_ff, dropout) for _ in range(num_layers)])\n",
        "        self.decoder_layers = nn.ModuleList([DecoderLayer(d_model, num_heads, d_ff, dropout) for _ in range(num_layers)])\n",
        "        self.fc_out = nn.Linear(d_model, vocab_size)\n",
        "\n",
        "    def forward(self, src, tgt, src_mask=None, tgt_mask=None):\n",
        "        src = self.pos_encoding(self.token_embedding(src))\n",
        "        tgt = self.pos_encoding(self.token_embedding(tgt))\n",
        "        for enc_layer in self.encoder_layers:\n",
        "            src = enc_layer(src, src_mask)\n",
        "        for dec_layer in self.decoder_layers:\n",
        "            tgt = dec_layer(tgt, src, src_mask, tgt_mask)\n",
        "        return self.fc_out(tgt)"
      ],
      "metadata": {
        "id": "ijAACm7WYLju"
      },
      "execution_count": null,
      "outputs": []
    },
    {
      "cell_type": "code",
      "source": [
        "# Example Model Initialization\n",
        "vocab_size = 10000\n",
        "d_model = 512\n",
        "num_heads = 8\n",
        "d_ff = 2048\n",
        "num_layers = 6\n",
        "\n",
        "model = Transformer(vocab_size, d_model, num_heads, d_ff, num_layers)\n",
        "print(model)\n"
      ],
      "metadata": {
        "colab": {
          "base_uri": "https://localhost:8080/"
        },
        "id": "nghfvhz7YP7V",
        "outputId": "ba2ebf0e-1bd3-4ea2-aaa8-5be168e806eb"
      },
      "execution_count": null,
      "outputs": [
        {
          "output_type": "stream",
          "name": "stdout",
          "text": [
            "Transformer(\n",
            "  (token_embedding): TokenEmbedding(\n",
            "    (embedding): Embedding(10000, 512)\n",
            "  )\n",
            "  (pos_encoding): PositionalEncoding()\n",
            "  (encoder_layers): ModuleList(\n",
            "    (0-5): 6 x EncoderLayer(\n",
            "      (self_attn): MultiHeadAttention(\n",
            "        (w_q): Linear(in_features=512, out_features=512, bias=True)\n",
            "        (w_k): Linear(in_features=512, out_features=512, bias=True)\n",
            "        (w_v): Linear(in_features=512, out_features=512, bias=True)\n",
            "        (w_o): Linear(in_features=512, out_features=512, bias=True)\n",
            "      )\n",
            "      (ff): FeedForward(\n",
            "        (fc1): Linear(in_features=512, out_features=2048, bias=True)\n",
            "        (fc2): Linear(in_features=2048, out_features=512, bias=True)\n",
            "      )\n",
            "      (norm1): LayerNorm((512,), eps=1e-05, elementwise_affine=True)\n",
            "      (norm2): LayerNorm((512,), eps=1e-05, elementwise_affine=True)\n",
            "      (dropout): Dropout(p=0.1, inplace=False)\n",
            "    )\n",
            "  )\n",
            "  (decoder_layers): ModuleList(\n",
            "    (0-5): 6 x DecoderLayer(\n",
            "      (self_attn): MultiHeadAttention(\n",
            "        (w_q): Linear(in_features=512, out_features=512, bias=True)\n",
            "        (w_k): Linear(in_features=512, out_features=512, bias=True)\n",
            "        (w_v): Linear(in_features=512, out_features=512, bias=True)\n",
            "        (w_o): Linear(in_features=512, out_features=512, bias=True)\n",
            "      )\n",
            "      (enc_attn): MultiHeadAttention(\n",
            "        (w_q): Linear(in_features=512, out_features=512, bias=True)\n",
            "        (w_k): Linear(in_features=512, out_features=512, bias=True)\n",
            "        (w_v): Linear(in_features=512, out_features=512, bias=True)\n",
            "        (w_o): Linear(in_features=512, out_features=512, bias=True)\n",
            "      )\n",
            "      (ff): FeedForward(\n",
            "        (fc1): Linear(in_features=512, out_features=2048, bias=True)\n",
            "        (fc2): Linear(in_features=2048, out_features=512, bias=True)\n",
            "      )\n",
            "      (norm1): LayerNorm((512,), eps=1e-05, elementwise_affine=True)\n",
            "      (norm2): LayerNorm((512,), eps=1e-05, elementwise_affine=True)\n",
            "      (norm3): LayerNorm((512,), eps=1e-05, elementwise_affine=True)\n",
            "      (dropout): Dropout(p=0.1, inplace=False)\n",
            "    )\n",
            "  )\n",
            "  (fc_out): Linear(in_features=512, out_features=10000, bias=True)\n",
            ")\n"
          ]
        }
      ]
    }
  ]
}